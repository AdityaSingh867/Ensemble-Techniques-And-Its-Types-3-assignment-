{
 "cells": [
  {
   "cell_type": "markdown",
   "id": "3dcc3706-0c48-49a8-b168-0e2d1b0b6d66",
   "metadata": {},
   "source": [
    "Q1. What is Random Forest Regressor?"
   ]
  },
  {
   "cell_type": "markdown",
   "id": "6e830a7c-0beb-4109-b9b9-63a66b843998",
   "metadata": {},
   "source": [
    "a supervised learning algorithm that uses ensemble learning method for regression."
   ]
  },
  {
   "cell_type": "markdown",
   "id": "805cfef5-c632-425e-9a22-1ece8fd7ac06",
   "metadata": {},
   "source": [
    "Q2. How does Random Forest Regressor reduce the risk of overfitting?"
   ]
  },
  {
   "cell_type": "markdown",
   "id": "0ef4409d-886c-4ae4-ac3c-a65c80f4f88c",
   "metadata": {},
   "source": [
    "they are made up of many weak classifiers that are trained completely independently on completely different subsets of the training data for this they reduce the risk of overfitting."
   ]
  },
  {
   "cell_type": "markdown",
   "id": "7ee02a90-fd4a-4ee7-8e2b-65f2965f9047",
   "metadata": {},
   "source": [
    "Q3. How does Random Forest Regressor aggregate the predictions of multiple decision trees?"
   ]
  },
  {
   "cell_type": "markdown",
   "id": "5e994d53-1115-49f0-9d85-c584edea5b1f",
   "metadata": {},
   "source": [
    "It take the average of all the outputs when the output is in the form of regressor(continous) , if the output is classification ('0' , '1') they give max output that will same."
   ]
  },
  {
   "cell_type": "markdown",
   "id": "06237c02-0adb-4dc9-8d67-5416cf9d3d1b",
   "metadata": {},
   "source": [
    "Q4. What are the hyperparameters of Random Forest Regressor?"
   ]
  },
  {
   "cell_type": "markdown",
   "id": "09ad0823-987c-47e0-b0ea-072a052b27a9",
   "metadata": {},
   "source": [
    "n_estimators , criterion , max_depth , min_samples_split , max_features , oob_score these are some important hyperparameters of Random Forest Regressor."
   ]
  },
  {
   "cell_type": "markdown",
   "id": "da08e237-8287-49c2-932f-5cf39ff210ac",
   "metadata": {},
   "source": [
    "Q5. What is the difference between Random Forest Regressor and Decision Tree Regressor?"
   ]
  },
  {
   "cell_type": "markdown",
   "id": "1c01bd3d-b9e0-4e90-9c0c-ae786cafbe0d",
   "metadata": {},
   "source": [
    "A decision tree combines some decisions, whereas a random forest combines several decision trees."
   ]
  },
  {
   "cell_type": "markdown",
   "id": "1889175d-55ab-4ab9-9195-d631bd60ab12",
   "metadata": {},
   "source": [
    "Q6. What are the advantages and disadvantages of Random Forest Regressor?"
   ]
  },
  {
   "cell_type": "markdown",
   "id": "65e97d75-ce0d-49d1-92ed-714098a7a4a3",
   "metadata": {},
   "source": [
    "__ADVANTAGE__\n",
    "- reduce overfitting\n",
    "- It give more accurate output compare with a single Decision tree\n",
    "- It can perform both regression and classification tasks\n",
    "\n",
    "__DISADVANTAGE__ \n",
    "- Can't describe relationships within data\n",
    "- More trees slow down model\n",
    "- Increased accuracy requires more trees."
   ]
  },
  {
   "cell_type": "markdown",
   "id": "fc08f358-4120-455d-a28d-b76dfbd23615",
   "metadata": {},
   "source": [
    "Q7. What is the output of Random Forest Regressor?"
   ]
  },
  {
   "cell_type": "markdown",
   "id": "1d678506-ac9b-4dff-b4c0-1ef9e45a9314",
   "metadata": {},
   "source": [
    "The prediction of model on based on the class which we paste in model variable the classes could be anything like classification , regressor"
   ]
  },
  {
   "cell_type": "markdown",
   "id": "e9327fd7-82cf-400b-9ae9-0d84ce8a775f",
   "metadata": {},
   "source": [
    "Q8. Can Random Forest Regressor be used for classification tasks?"
   ]
  },
  {
   "cell_type": "markdown",
   "id": "b9e1c266-c98e-42f3-a1d0-24607d1b234f",
   "metadata": {},
   "source": [
    "YES"
   ]
  },
  {
   "cell_type": "code",
   "execution_count": null,
   "id": "326c094f-8ff8-4688-96e7-0519905ea1b0",
   "metadata": {},
   "outputs": [],
   "source": []
  }
 ],
 "metadata": {
  "kernelspec": {
   "display_name": "Python 3 (ipykernel)",
   "language": "python",
   "name": "python3"
  },
  "language_info": {
   "codemirror_mode": {
    "name": "ipython",
    "version": 3
   },
   "file_extension": ".py",
   "mimetype": "text/x-python",
   "name": "python",
   "nbconvert_exporter": "python",
   "pygments_lexer": "ipython3",
   "version": "3.10.8"
  }
 },
 "nbformat": 4,
 "nbformat_minor": 5
}
